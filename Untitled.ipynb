{
 "cells": [
  {
   "cell_type": "code",
   "execution_count": 7,
   "id": "3f84531b",
   "metadata": {},
   "outputs": [
    {
     "name": "stdout",
     "output_type": "stream",
     "text": [
      "a is 2\n",
      "True\n"
     ]
    }
   ],
   "source": [
    "a=int(input(\"a is \"))\n",
    "if(a==2):\n",
    "    print(\"True\")\n",
    "else:\n",
    "    print(\"False\")"
   ]
  },
  {
   "cell_type": "code",
   "execution_count": 8,
   "id": "f8579667",
   "metadata": {},
   "outputs": [
    {
     "name": "stdout",
     "output_type": "stream",
     "text": [
      "the type of a is  <class 'str'>\n",
      "the type of b is  <class 'bool'>\n",
      "the type of c is  <class 'int'>\n",
      "the type of d is  <class 'NoneType'>\n"
     ]
    }
   ],
   "source": [
    "a=\"HI\"\n",
    "b=True\n",
    "c=1\n",
    "d=None\n",
    "print(\"the type of a is \",type(a))\n",
    "print(\"the type of b is \",type(b))\n",
    "print(\"the type of c is \",type(c))\n",
    "print(\"the type of d is \",type(d))"
   ]
  },
  {
   "cell_type": "code",
   "execution_count": 12,
   "id": "a6199db6",
   "metadata": {},
   "outputs": [
    {
     "name": "stdout",
     "output_type": "stream",
     "text": [
      "Enter the 1st no.: 10\n",
      "Enter the 2st no.: 5\n",
      "Enter operator(+,-,*,/): /\n",
      "Result is  2.0\n"
     ]
    }
   ],
   "source": [
    "a=int(input(\"Enter the 1st no.: \"))\n",
    "b=int(input(\"Enter the 2st no.: \"))\n",
    "op=input(\"Enter operator(+,-,*,/): \")\n",
    "if(op==\"+\"):\n",
    "    print(\"Result is \",a+b)\n",
    "elif(op==\"-\"):\n",
    "    print(\"Result is \",a-b)\n",
    "elif(op==\"*\"):\n",
    "    print(\"Result is \",a*b)\n",
    "elif(op==\"/\"):\n",
    "    if b != 0:\n",
    "        print(\"Result is \", a / b)\n",
    "    else:\n",
    "        print(\"Cannot divide by zero\")\n",
    "elif(op==\"%\"):\n",
    "    print(\"Result is \",a%b)\n",
    "else:\n",
    "    print(\"Invalid operator\")"
   ]
  },
  {
   "cell_type": "code",
   "execution_count": 16,
   "id": "cc6fcba9",
   "metadata": {},
   "outputs": [
    {
     "name": "stdout",
     "output_type": "stream",
     "text": [
      "subs of 10 and 5 is 5\n"
     ]
    }
   ],
   "source": [
    "a=10\n",
    "b=5\n",
    "print(f\"subs of {a} and {b} is {a-b}\")"
   ]
  },
  {
   "cell_type": "code",
   "execution_count": null,
   "id": "551d2bcc",
   "metadata": {},
   "outputs": [],
   "source": []
  }
 ],
 "metadata": {
  "kernelspec": {
   "display_name": "Python 3 (ipykernel)",
   "language": "python",
   "name": "python3"
  },
  "language_info": {
   "codemirror_mode": {
    "name": "ipython",
    "version": 3
   },
   "file_extension": ".py",
   "mimetype": "text/x-python",
   "name": "python",
   "nbconvert_exporter": "python",
   "pygments_lexer": "ipython3",
   "version": "3.9.13"
  }
 },
 "nbformat": 4,
 "nbformat_minor": 5
}
